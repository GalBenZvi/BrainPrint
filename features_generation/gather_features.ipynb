{
 "cells": [
  {
   "cell_type": "code",
   "execution_count": 69,
   "source": [
    "import pandas as pd\n",
    "import nibabel as nib\n",
    "from pathlib import Path\n",
    "from utils.features import FEATURES,df_to_series\n",
    "from utils.parcellation import parcellation_labels\n",
    "from itertools import chain"
   ],
   "outputs": [],
   "metadata": {}
  },
  {
   "cell_type": "code",
   "execution_count": 70,
   "source": [
    "mother_dir = Path(\"/media/groot/Yalla/media/MRI/derivatives\")\n",
    "subjects = sorted(set([subj.name for subj in mother_dir.glob(\"*/sub-*\") if subj.is_dir()]))\n",
    "modalities = list(chain(FEATURES.keys()))\n",
    "parameters = list(chain(*FEATURES.values()))\n",
    "\n",
    "n_indices = parcellation_labels.shape[0] * len(parameters)\n",
    "\n",
    "index_df = pd.DataFrame(columns=[\"Hemisphere\",\"Name\",\"Modality\",\"Feature\"])\n",
    "for modality,parameters in FEATURES.items():\n",
    "    for param in parameters:\n",
    "        tmp = pd.DataFrame(columns=index_df.columns,index=range(parcellation_labels.shape[0]))\n",
    "        tmp[\"Hemisphere\"] = parcellation_labels.Hemi.values\n",
    "        tmp[\"Name\"] = parcellation_labels.ROIname.values\n",
    "        tmp[\"Modality\"] = modality\n",
    "        tmp[\"Feature\"] = param\n",
    "        index_df = pd.concat([index_df,tmp],ignore_index=True)\n",
    "\n",
    "\n",
    "mindex = pd.MultiIndex.from_frame(index_df,names=[\"Hemisphere\",\"Name\",\"Modality\",\"Feature\"])\n",
    "df = pd.DataFrame(columns=mindex,index=subjects)\n",
    "df.columns = df.columns.sort_values(ascending=False)"
   ],
   "outputs": [],
   "metadata": {}
  },
  {
   "cell_type": "code",
   "execution_count": 71,
   "source": [
    "for subj in df.index:\n",
    "    for modality in modalities:\n",
    "        if modality == \"DWI\":\n",
    "            regions_fname = mother_dir / \"dwiprep\" / subj / \"ses-1\" / \"tensors_parameters\" / \"coreg_FS\" / \"Brainnetome_parcels.csv\"\n",
    "        elif modality == \"SMRI\":\n",
    "            subj_dir = mother_dir / \"fmriprep\" / subj\n",
    "            sessions = [ses.name for ses in subj_dir.glob(\"ses-*\")]\n",
    "            if len(sessions) > 1:\n",
    "                anat_dir = subj_dir / \"anat\"\n",
    "            elif len(sessions) == 1:\n",
    "                anat_dir = subj_dir / sessions[0] / \"anat\"\n",
    "            else:\n",
    "                continue\n",
    "            regions_fname =  anat_dir / \"Brainnetome_parcels.csv\"\n",
    "        if not regions_fname.exists():\n",
    "            continue\n",
    "        try:\n",
    "            tmp_df = pd.read_csv(regions_fname,index_col=0)\n",
    "            \n",
    "\n",
    "            df.loc[subj,(slice(None),slice(None),modality,slice(None))] = df_to_series(tmp_df,mindex,modality,FEATURES.copy())\n",
    "        except KeyError:\n",
    "            continue\n",
    "    # break\n",
    "df = df.dropna(how=\"all\")"
   ],
   "outputs": [],
   "metadata": {}
  },
  {
   "cell_type": "code",
   "execution_count": null,
   "source": [
    "df"
   ],
   "outputs": [],
   "metadata": {}
  }
 ],
 "metadata": {
  "orig_nbformat": 4,
  "language_info": {
   "name": "python",
   "version": "3.9.5",
   "mimetype": "text/x-python",
   "codemirror_mode": {
    "name": "ipython",
    "version": 3
   },
   "pygments_lexer": "ipython3",
   "nbconvert_exporter": "python",
   "file_extension": ".py"
  },
  "kernelspec": {
   "name": "python3",
   "display_name": "Python 3.9.5 64-bit ('venv': venv)"
  },
  "interpreter": {
   "hash": "657d49935234a15fa36c5970ff6da4b23715712a46f0e2e9163e6095a5d412b3"
  }
 },
 "nbformat": 4,
 "nbformat_minor": 2
}