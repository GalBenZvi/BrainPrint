{
 "cells": [
  {
   "cell_type": "code",
   "execution_count": 1,
   "source": [
    "from pathlib import Path\n",
    "mother_dir = Path(\"/media/groot/Yalla/media/MRI/derivatives/fmriprep\")\n",
    "pcs = [f for f in mother_dir.rglob(\"Brainnetome_parcels.csv\")]"
   ],
   "outputs": [],
   "metadata": {}
  },
  {
   "cell_type": "code",
   "execution_count": 4,
   "source": [
    "import pandas as pd\n",
    "features = [\"Thickness\",\"Volume\",\"Sulc\"]\n",
    "for pc in pcs:\n",
    "    df = pd.read_csv(pc,index_col=0)\n",
    "    flag = [feat in df.columns for feat in features]\n",
    "    if not all(flag):\n",
    "        pc.unlink()\n"
   ],
   "outputs": [],
   "metadata": {}
  }
 ],
 "metadata": {
  "orig_nbformat": 4,
  "language_info": {
   "name": "python",
   "version": "3.9.5",
   "mimetype": "text/x-python",
   "codemirror_mode": {
    "name": "ipython",
    "version": 3
   },
   "pygments_lexer": "ipython3",
   "nbconvert_exporter": "python",
   "file_extension": ".py"
  },
  "kernelspec": {
   "name": "python3",
   "display_name": "Python 3.9.5 64-bit ('venv': venv)"
  },
  "interpreter": {
   "hash": "657d49935234a15fa36c5970ff6da4b23715712a46f0e2e9163e6095a5d412b3"
  }
 },
 "nbformat": 4,
 "nbformat_minor": 2
}