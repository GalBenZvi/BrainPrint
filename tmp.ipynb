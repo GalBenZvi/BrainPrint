{
 "cells": [
  {
   "cell_type": "code",
   "execution_count": 1,
   "source": [
    "from pathlib import Path\n",
    "mother_dir = Path(\"/media/groot/Yalla/media/MRI/derivatives/fmriprep\")\n",
    "pcs = [f for f in mother_dir.rglob(\"Brainnetome_parcels.csv\")]"
   ],
   "outputs": [],
   "metadata": {}
  },
  {
   "cell_type": "code",
   "execution_count": 4,
   "source": [
    "import pandas as pd\n",
    "features = [\"Thickness\",\"Volume\",\"Sulc\"]\n",
    "for pc in pcs:\n",
    "    df = pd.read_csv(pc,index_col=0)\n",
    "    flag = [feat in df.columns for feat in features]\n",
    "    if not all(flag):\n",
    "        pc.unlink()\n"
   ],
   "outputs": [],
   "metadata": {}
  },
  {
   "cell_type": "code",
   "execution_count": 2,
   "source": [],
   "outputs": [
    {
     "output_type": "stream",
     "name": "stdout",
     "text": [
      "sub-333\n",
      "True\n",
      "True\n",
      "sub-334\n",
      "True\n",
      "True\n",
      "sub-336\n",
      "True\n",
      "True\n",
      "sub-337\n",
      "True\n",
      "True\n",
      "sub-339\n",
      "True\n",
      "True\n",
      "sub-340\n",
      "True\n",
      "True\n",
      "sub-345\n",
      "True\n",
      "True\n",
      "sub-347\n",
      "True\n",
      "True\n",
      "sub-348\n",
      "True\n",
      "True\n",
      "sub-355\n",
      "True\n",
      "True\n",
      "sub-376\n",
      "False\n",
      "False\n",
      "sub-379\n",
      "True\n",
      "True\n",
      "sub-380\n",
      "True\n",
      "True\n",
      "sub-386\n",
      "True\n",
      "True\n",
      "sub-390\n",
      "True\n",
      "True\n",
      "sub-394\n",
      "True\n",
      "True\n",
      "sub-395\n",
      "True\n",
      "True\n",
      "sub-397\n",
      "False\n",
      "False\n",
      "sub-401\n",
      "True\n",
      "True\n",
      "sub-408\n",
      "False\n",
      "False\n",
      "sub-412\n",
      "True\n",
      "True\n",
      "sub-414\n",
      "True\n",
      "True\n",
      "sub-416\n",
      "True\n",
      "True\n",
      "sub-417\n",
      "True\n",
      "True\n",
      "sub-419\n",
      "True\n",
      "True\n",
      "sub-422\n",
      "False\n",
      "sub-428\n",
      "False\n",
      "False\n"
     ]
    }
   ],
   "metadata": {}
  }
 ],
 "metadata": {
  "orig_nbformat": 4,
  "language_info": {
   "name": "python",
   "version": "3.9.5",
   "mimetype": "text/x-python",
   "codemirror_mode": {
    "name": "ipython",
    "version": 3
   },
   "pygments_lexer": "ipython3",
   "nbconvert_exporter": "python",
   "file_extension": ".py"
  },
  "kernelspec": {
   "name": "python3",
   "display_name": "Python 3.9.5 64-bit ('venv': venv)"
  },
  "interpreter": {
   "hash": "657d49935234a15fa36c5970ff6da4b23715712a46f0e2e9163e6095a5d412b3"
  }
 },
 "nbformat": 4,
 "nbformat_minor": 2
}